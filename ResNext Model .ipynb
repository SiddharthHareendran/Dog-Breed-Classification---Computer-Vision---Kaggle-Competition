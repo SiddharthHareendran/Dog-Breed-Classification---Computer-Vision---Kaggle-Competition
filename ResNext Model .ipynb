{
 "cells": [
  {
   "cell_type": "code",
   "execution_count": null,
   "metadata": {},
   "outputs": [],
   "source": [
    "# load model with random weights\n",
    "resnext = models.resnext101_32x8d(pretrained=True)\n",
    "\n",
    "for param in resnext.parameters():\n",
    "    param.requires_grad = False\n",
    "print(resnext)"
   ]
  },
  {
   "cell_type": "code",
   "execution_count": null,
   "metadata": {},
   "outputs": [],
   "source": [
    "# change the output layer\n",
    "num_classes=10\n",
    "num_ftrs = resnext.fc.in_features \n",
    "resnext.fc= nn.Linear(num_ftrs, num_classes)\n",
    "resnext.to(device);\n",
    "print(resnext)"
   ]
  },
  {
   "cell_type": "code",
   "execution_count": null,
   "metadata": {},
   "outputs": [],
   "source": [
    "#Model Training\n",
    "lr = 0.0001\n",
    "loss_func = nn.CrossEntropyLoss(weight=weights_tensor,reduction=\"sum\")\n",
    "opt = optim.Adam(resnext.parameters(), lr=lr)\n",
    "lr_scheduler = StepLR(opt,step_size=7, gamma=0.1)\n",
    "\n",
    "params_train={\n",
    " \"num_epochs\": 10,\n",
    " \"optimizer\": opt,\n",
    " \"loss_func\": loss_func,\n",
    " \"train_dl\": train_loader,\n",
    " \"val_dl\": valid_loader,\n",
    " \"sanity_check\": False,\n",
    " \"lr_scheduler\": lr_scheduler,\n",
    " \"path2weights\": \"resnext.pt\",\n",
    "}\n",
    "\n",
    "# train and validate the model\n",
    "resnext,loss_hist,metric_hist=train_val(device,resnext,params_train)"
   ]
  },
  {
   "cell_type": "code",
   "execution_count": null,
   "metadata": {},
   "outputs": [],
   "source": [
    "#Model Evaluation\n",
    "resnext.eval();\n",
    "y_out,y_gt=deploy_model(resnext,valid_dataset,device=device)\n",
    "\n",
    "y_pred = np.argmax(y_out,axis=1)\n",
    "acc=accuracy_score(y_pred,y_gt)\n",
    "print(acc)"
   ]
  }
 ],
 "metadata": {
  "kernelspec": {
   "display_name": "buan6341_2020",
   "language": "python",
   "name": "buan6341_2020"
  },
  "language_info": {
   "codemirror_mode": {
    "name": "ipython",
    "version": 3
   },
   "file_extension": ".py",
   "mimetype": "text/x-python",
   "name": "python",
   "nbconvert_exporter": "python",
   "pygments_lexer": "ipython3",
   "version": "3.7.6"
  },
  "toc": {
   "base_numbering": 1,
   "nav_menu": {},
   "number_sections": true,
   "sideBar": true,
   "skip_h1_title": false,
   "title_cell": "Table of Contents",
   "title_sidebar": "Contents",
   "toc_cell": false,
   "toc_position": {},
   "toc_section_display": true,
   "toc_window_display": false
  }
 },
 "nbformat": 4,
 "nbformat_minor": 2
}
