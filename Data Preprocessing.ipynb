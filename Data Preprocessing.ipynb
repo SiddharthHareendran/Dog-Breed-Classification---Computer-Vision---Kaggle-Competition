{
 "cells": [
  {
   "cell_type": "code",
   "execution_count": null,
   "metadata": {},
   "outputs": [],
   "source": [
    "# Defining transformations\n",
    "# Mean and Standard Deviation values for RGB color channels have been identified separately and plugged in here.\n",
    "train_transform = transforms.Compose([transforms.Resize((299,299)),\n",
    "                            transforms.RandomRotation(25),\n",
    "                            transforms.RandomHorizontalFlip(p=0.5),\n",
    "                            transforms.RandomVerticalFlip(p=0.5),  \n",
    "                            transforms.ToTensor(),\n",
    "                            transforms.Normalize(mean=[0.4478926, 0.41914284 , 0.36154622], std=[0.24954137,0.23996224, 0.23252055])\n",
    "                           ])\n",
    "\n",
    "valid_transform = transforms.Compose([transforms.Resize((299,299)), \n",
    "                                      transforms.ToTensor(),\n",
    "                                      transforms.Normalize(mean=[0.4478926, 0.41914284 , 0.36154622], std=[0.24954137,0.23996224, 0.23252055])\n",
    "                                    ])"
   ]
  },
  {
   "cell_type": "code",
   "execution_count": null,
   "metadata": {},
   "outputs": [],
   "source": [
    "# Extends class Dataset\n",
    "# Problem: Applying transformation when loading the dataset will apply the same transformation to both the train and validation datasets.\n",
    "# This is not desired and therefore a separate class has been defined which can apply different transformations to one single dataset.\n",
    "class MyLazyDataset(Dataset):\n",
    "    def __init__(self, dataset, transform=None):\n",
    "        self.dataset = dataset\n",
    "        self.transform = transform\n",
    "\n",
    "    def __getitem__(self, index):\n",
    "        if self.transform:\n",
    "            x = self.transform(dataset[index][0])\n",
    "        else:\n",
    "            x = dataset[index][0]\n",
    "        y = dataset[index][1]\n",
    "        return x, y\n",
    "    \n",
    "    def __len__(self):\n",
    "        return len(dataset)"
   ]
  },
  {
   "cell_type": "code",
   "execution_count": null,
   "metadata": {},
   "outputs": [],
   "source": [
    "data_dir = '/content/sample_data/train_data/train'\n",
    "dataset = datasets.ImageFolder(data_dir)\n",
    "print(f'Length of dataset {len(dataset)}')"
   ]
  },
  {
   "cell_type": "code",
   "execution_count": null,
   "metadata": {},
   "outputs": [],
   "source": [
    "traindataset = MyLazyDataset(dataset,train_transform)\n",
    "valdataset = MyLazyDataset(dataset,valid_transform)"
   ]
  },
  {
   "cell_type": "code",
   "execution_count": null,
   "metadata": {},
   "outputs": [],
   "source": [
    "sss = StratifiedShuffleSplit(n_splits=1, test_size=0.2, random_state=0)\n",
    "indices=list(range(len(dataset)))\n",
    "y_train0=[y for _,y in dataset]"
   ]
  },
  {
   "cell_type": "code",
   "execution_count": null,
   "metadata": {},
   "outputs": [],
   "source": [
    "for train_index, valid_index in sss.split(indices, y_train0):\n",
    "    print(\"train:\", train_index, \"val:\", valid_index)\n",
    "    print(len(train_index),len(valid_index))"
   ]
  },
  {
   "cell_type": "code",
   "execution_count": null,
   "metadata": {},
   "outputs": [],
   "source": [
    "train_dataset = Subset(traindataset, indices=train_index)\n",
    "valid_dataset = Subset(valdataset, indices=valid_index)"
   ]
  },
  {
   "cell_type": "code",
   "execution_count": null,
   "metadata": {},
   "outputs": [],
   "source": [
    "# Count of each target class in train and valid\n",
    "y_train=[y for _,y in train_dataset]\n",
    "y_valid=[y for _,y in valid_dataset]\n",
    "\n",
    "counter_train=collections.Counter(y_train)\n",
    "counter_val=collections.Counter(y_valid)\n",
    "sorted_train_counter = sorted(counter_train.items())\n",
    "sorted_valid_counter = sorted(counter_val.items())"
   ]
  },
  {
   "cell_type": "code",
   "execution_count": null,
   "metadata": {},
   "outputs": [],
   "source": [
    "print(f'Train : {sorted_train_counter}')\n",
    "print(f'Valid : {sorted_valid_counter}')"
   ]
  },
  {
   "cell_type": "code",
   "execution_count": null,
   "metadata": {},
   "outputs": [],
   "source": [
    "plt.bar(*zip(*sorted_train_counter))"
   ]
  },
  {
   "cell_type": "code",
   "execution_count": null,
   "metadata": {},
   "outputs": [],
   "source": [
    "total = len(train_dataset)\n",
    "weights = []\n",
    "for item in sorted_train_counter:\n",
    "    weight = total/(10*item[1])\n",
    "    weights.append(weight)\n",
    "print(weights)"
   ]
  },
  {
   "cell_type": "code",
   "execution_count": null,
   "metadata": {},
   "outputs": [],
   "source": [
    "# Due to imbalance in data set in class 4 we assign weights to the classes \n",
    "weights_tensor = torch.tensor(weights).to(device)"
   ]
  },
  {
   "cell_type": "code",
   "execution_count": null,
   "metadata": {},
   "outputs": [],
   "source": [
    "torch.manual_seed(0)\n",
    "\n",
    "train_idx = indices=list(range(len(train_dataset)))\n",
    "valid_idx = indices=list(range(len(valid_dataset)))\n",
    "\n",
    "# define samplers for obtaining training and validation batches\n",
    "train_sampler = SubsetRandomSampler(train_idx)\n",
    "valid_sampler = SubsetRandomSampler(valid_idx)"
   ]
  },
  {
   "cell_type": "code",
   "execution_count": null,
   "metadata": {},
   "outputs": [],
   "source": [
    "batch_size=16\n",
    "train_loader= torch.utils.data.DataLoader(dataset=train_dataset, batch_size=batch_size, sampler=train_sampler)\n",
    "valid_loader= torch.utils.data.DataLoader(dataset=valid_dataset, batch_size=batch_size, sampler=valid_sampler)"
   ]
  },
  {
   "cell_type": "code",
   "execution_count": null,
   "metadata": {},
   "outputs": [],
   "source": [
    "# Shape of training batch\n",
    "dataiter = iter(train_loader)\n",
    "train_images, train_labels = dataiter.next()\n",
    "\n",
    "print('Training data:')\n",
    "print('X shape:',train_images.shape)\n",
    "print('y shape:',train_labels.shape)"
   ]
  },
  {
   "cell_type": "code",
   "execution_count": null,
   "metadata": {},
   "outputs": [],
   "source": [
    "# Shape of validation batch\n",
    "dataiter = iter(valid_loader)\n",
    "valid_images, valid_labels = dataiter.next()\n",
    "\n",
    "print('Validation data:')\n",
    "print('X shape:',valid_images.shape)\n",
    "print('y shape:',valid_labels.shape)"
   ]
  },
  {
   "cell_type": "code",
   "execution_count": null,
   "metadata": {},
   "outputs": [],
   "source": [
    "# Sample train images\n",
    "imgshow(torchvision.utils.make_grid(train_images, padding=1, pad_value=0.85))\n",
    "print(' '.join('%5s' % train_labels[j] for j in range(batch_size)))"
   ]
  },
  {
   "cell_type": "code",
   "execution_count": null,
   "metadata": {},
   "outputs": [],
   "source": [
    "# Sample valid images\n",
    "imgshow(torchvision.utils.make_grid(valid_images, padding=1, pad_value=0.85))\n",
    "print(' '.join('%5s' % valid_labels[j] for j in range(batch_size)))"
   ]
  }
 ],
 "metadata": {
  "kernelspec": {
   "display_name": "Python 3",
   "language": "python",
   "name": "python3"
  },
  "language_info": {
   "codemirror_mode": {
    "name": "ipython",
    "version": 3
   },
   "file_extension": ".py",
   "mimetype": "text/x-python",
   "name": "python",
   "nbconvert_exporter": "python",
   "pygments_lexer": "ipython3",
   "version": "3.7.6"
  },
  "toc": {
   "base_numbering": 1,
   "nav_menu": {},
   "number_sections": true,
   "sideBar": true,
   "skip_h1_title": false,
   "title_cell": "Table of Contents",
   "title_sidebar": "Contents",
   "toc_cell": false,
   "toc_position": {},
   "toc_section_display": true,
   "toc_window_display": false
  }
 },
 "nbformat": 4,
 "nbformat_minor": 2
}
